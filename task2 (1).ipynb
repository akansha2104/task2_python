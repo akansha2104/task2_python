{
 "cells": [
  {
   "cell_type": "markdown",
   "id": "6e09821e-416e-458b-8f38-930cd75e89c5",
   "metadata": {},
   "source": [
    "# Different string method"
   ]
  },
  {
   "cell_type": "markdown",
   "id": "0f34e6d4-38c1-4bd5-a1f7-a29daabd9102",
   "metadata": {},
   "source": [
    "## split()\n",
    "Splits the string and returns a list\n"
   ]
  },
  {
   "cell_type": "code",
   "execution_count": 15,
   "id": "2dba38c0-90af-4336-adaf-c1256dc181ef",
   "metadata": {},
   "outputs": [
    {
     "name": "stdout",
     "output_type": "stream",
     "text": [
      "['apple', 'banana', 'cherry', 'orange']\n"
     ]
    }
   ],
   "source": [
    "#example\n",
    "s= \"apple#banana#cherry#orange\"\n",
    "print(s.split(\"#\"))"
   ]
  },
  {
   "cell_type": "code",
   "execution_count": 17,
   "id": "f0756bfc-b109-4911-a994-ef2420868c5c",
   "metadata": {},
   "outputs": [
    {
     "name": "stdout",
     "output_type": "stream",
     "text": [
      "['hello', 'Nagpur']\n"
     ]
    }
   ],
   "source": [
    "splt = \"hello Nagpur\"\n",
    "x = splt.split()\n",
    "print(x)"
   ]
  },
  {
   "cell_type": "markdown",
   "id": "0d74ff4f-a629-428a-8ba9-3625f24cc36b",
   "metadata": {},
   "source": [
    "## capitalize()\n",
    "it helps to convert the first character of string into upper case"
   ]
  },
  {
   "cell_type": "code",
   "execution_count": 33,
   "id": "63e4a325-b90d-46d9-ba31-aeb703106854",
   "metadata": {},
   "outputs": [
    {
     "name": "stdout",
     "output_type": "stream",
     "text": [
      "Welcome to python programming\n"
     ]
    }
   ],
   "source": [
    "#example\n",
    "s = \"welcome to python programming\"\n",
    "print(s.capitalize())"
   ]
  },
  {
   "cell_type": "code",
   "execution_count": 35,
   "id": "4ccbf5ab-60e8-400f-8516-fc4071950b3d",
   "metadata": {},
   "outputs": [
    {
     "name": "stdout",
     "output_type": "stream",
     "text": [
      "25 is my age\n"
     ]
    }
   ],
   "source": [
    "x = \"25 is my age\"\n",
    "print(x.capitalize())"
   ]
  },
  {
   "cell_type": "markdown",
   "id": "ae8fbdec-b719-4731-90c7-bdc83daa5eb2",
   "metadata": {},
   "source": [
    "## isupper\n",
    "Returns True if all characters in the string are upper case otherwise returns false\r\n"
   ]
  },
  {
   "cell_type": "code",
   "execution_count": 43,
   "id": "4cca24f1-bfb9-492a-a563-4783810e7b14",
   "metadata": {},
   "outputs": [
    {
     "name": "stdout",
     "output_type": "stream",
     "text": [
      "True\n",
      "False\n"
     ]
    }
   ],
   "source": [
    "                               #example\n",
    "s = \"PYTHON PROGRAMMING IS FUN\"\n",
    "print(s.isupper())\n",
    "\n",
    "s = \"python programming is not fun\"\n",
    "print(s.isupper())\n",
    "\n"
   ]
  },
  {
   "cell_type": "markdown",
   "id": "3c67b59c-e5e7-4424-8a98-5f1a4c26ac91",
   "metadata": {},
   "source": [
    "## islower\n",
    "Returns True if all characters in the string are upper case otherwise returns false\n"
   ]
  },
  {
   "cell_type": "code",
   "execution_count": 47,
   "id": "c8b565b4-8dec-4447-9ae1-5393a068272c",
   "metadata": {},
   "outputs": [
    {
     "name": "stdout",
     "output_type": "stream",
     "text": [
      "False\n",
      "True\n"
     ]
    }
   ],
   "source": [
    "                       #example\n",
    "s = \"PYTHON PROGRAMMING IS FUN\"\n",
    "print(s.islower())\n",
    "\n",
    "s = \"python programming is not fun\"\n",
    "print(s.islower())\n",
    "\n"
   ]
  },
  {
   "cell_type": "markdown",
   "id": "cba9df86-902f-41fa-86e4-3910fe01e6e1",
   "metadata": {},
   "source": [
    "## swapcase()\t\n",
    "Swaps cases, lower case becomes upper case and vice versa"
   ]
  },
  {
   "cell_type": "code",
   "execution_count": 50,
   "id": "bdf8858d-1ff5-4ed5-830d-b9ea353beaf4",
   "metadata": {},
   "outputs": [
    {
     "name": "stdout",
     "output_type": "stream",
     "text": [
      "python programming is fun\n",
      "PYTHON PROGRAMMING IS NOT FUN\n"
     ]
    }
   ],
   "source": [
    "                #example\n",
    "s = \"PYTHON PROGRAMMING IS FUN\"\n",
    "print(s.swapcase())\n",
    "\n",
    "s = \"python programming is not fun\"\n",
    "print(s.swapcase())\n",
    "\n"
   ]
  },
  {
   "cell_type": "markdown",
   "id": "19233d0c-36e2-40df-a2bf-d0c20d795f7f",
   "metadata": {},
   "source": [
    "## title()\t\n",
    "Converts the first character of each word to upper case\r\n"
   ]
  },
  {
   "cell_type": "code",
   "execution_count": 60,
   "id": "2bc874b7-768b-4ad6-a28e-39fe420f0c95",
   "metadata": {},
   "outputs": [
    {
     "name": "stdout",
     "output_type": "stream",
     "text": [
      "Python Programming Is Not Fun\n"
     ]
    }
   ],
   "source": [
    "s = \"python programming is not fun\"\n",
    "print(s.title())"
   ]
  },
  {
   "cell_type": "markdown",
   "id": "3560df86-5267-4cfe-9030-22eb712d498a",
   "metadata": {},
   "source": [
    "## strip()\t\n",
    "Returns a trimmed version of the string"
   ]
  },
  {
   "cell_type": "code",
   "execution_count": 58,
   "id": "a4d7dfef-dd56-4f71-aafa-b12922eb38f0",
   "metadata": {},
   "outputs": [
    {
     "name": "stdout",
     "output_type": "stream",
     "text": [
      "of all fruits apple is my favorite\n"
     ]
    }
   ],
   "source": [
    "#example \n",
    "fruit = \"     apple     \"\n",
    "x = fruit.strip()\n",
    "print(\"of all fruits\", x, \"is my favorite\")"
   ]
  },
  {
   "cell_type": "code",
   "execution_count": 68,
   "id": "bdec42f2-2a16-4018-b905-328986a00159",
   "metadata": {},
   "outputs": [
    {
     "name": "stdout",
     "output_type": "stream",
     "text": [
      "chilly\n"
     ]
    }
   ],
   "source": [
    "s = \"     chilly     \"\n",
    "print(s.strip())"
   ]
  },
  {
   "cell_type": "markdown",
   "id": "41c61bfb-7867-4070-9fc8-cf02bca96a67",
   "metadata": {},
   "source": [
    "## find()\t\n",
    "Searches the string for a specified value and returns the position of where it was found"
   ]
  },
  {
   "cell_type": "code",
   "execution_count": 74,
   "id": "b160eadc-7ce2-41cc-aad6-92e83a27b92c",
   "metadata": {},
   "outputs": [
    {
     "name": "stdout",
     "output_type": "stream",
     "text": [
      "16\n",
      "28\n"
     ]
    }
   ],
   "source": [
    "                     #example\n",
    "s= \" welcome to the programming world\"\n",
    "print(s.find (\"programming\"))\n",
    "\n",
    "s= \" welcome to the programming world\"\n",
    "print(s.find (\"world\"))"
   ]
  },
  {
   "cell_type": "markdown",
   "id": "0deb1091-44cc-480a-a733-3cf524190b6b",
   "metadata": {},
   "source": [
    "## replace()\n",
    "Returns a string where a specified value is replaced with a specified value\r\n"
   ]
  },
  {
   "cell_type": "code",
   "execution_count": 76,
   "id": "4a52f8ae-d1dc-481e-9379-2726136ad8e1",
   "metadata": {},
   "outputs": [
    {
     "name": "stdout",
     "output_type": "stream",
     "text": [
      " welcome to the python world\n",
      " welcome to the programming languages\n"
     ]
    }
   ],
   "source": [
    "# example\n",
    "s= \" welcome to the programming world\"\n",
    "print(s.replace (\"programming\",\"python\"))\n",
    "\n",
    "s= \" welcome to the programming world\"\n",
    "print(s.replace (\"world\",\"languages\"))\n"
   ]
  },
  {
   "cell_type": "markdown",
   "id": "ac10206b-e8d7-4c96-a040-3045e1583886",
   "metadata": {},
   "source": [
    "## join"
   ]
  },
  {
   "cell_type": "code",
   "execution_count": 81,
   "id": "ebe0b9d4-e1ea-4cfa-a4b7-01371290d679",
   "metadata": {},
   "outputs": [
    {
     "name": "stdout",
     "output_type": "stream",
     "text": [
      "hello-jupyter-notebook\n"
     ]
    }
   ],
   "source": [
    "s = \"hello jupyter notebook\"\n",
    "print(\"-\".join(['hello','jupyter','notebook']))"
   ]
  },
  {
   "cell_type": "code",
   "execution_count": 85,
   "id": "d84e8782-9140-45d7-8b73-2890d071b331",
   "metadata": {},
   "outputs": [
    {
     "name": "stdout",
     "output_type": "stream",
     "text": [
      "java & python\n"
     ]
    }
   ],
   "source": [
    "s = \"java python\"\n",
    "print(\"&\".join(['java ',' python']))"
   ]
  },
  {
   "cell_type": "markdown",
   "id": "ad1e203d-aec6-4514-873a-3592c64f335c",
   "metadata": {},
   "source": [
    "## center()\n",
    "Returns a centered string"
   ]
  },
  {
   "cell_type": "code",
   "execution_count": 4,
   "id": "0d09cc83-74cf-44f4-b681-0b92b882f35d",
   "metadata": {},
   "outputs": [
    {
     "name": "stdout",
     "output_type": "stream",
     "text": [
      "          apple          \n",
      "                i love my country                 \n"
     ]
    }
   ],
   "source": [
    "#example\n",
    "s= \"apple\"\n",
    "print(s.center(25))\n",
    "\n",
    "s= \"i love my country\"\n",
    "print(s.center(50))\n",
    "\n",
    "\n"
   ]
  },
  {
   "cell_type": "markdown",
   "id": "bdbdf1ce-6c73-46c8-8245-d25b79bfb220",
   "metadata": {},
   "source": [
    "## count()\n",
    "Returns the number of times a specified value occurs in a string"
   ]
  },
  {
   "cell_type": "code",
   "execution_count": 7,
   "id": "bc4587f4-ea6f-47d5-909e-59c33c70d38f",
   "metadata": {},
   "outputs": [
    {
     "name": "stdout",
     "output_type": "stream",
     "text": [
      "2\n"
     ]
    }
   ],
   "source": [
    "#example\n",
    "x = \"i like oranges,but more than oranges i love apples\"\n",
    "print(x.count(\"oranges\"))"
   ]
  },
  {
   "cell_type": "code",
   "execution_count": 13,
   "id": "8c0347da-2aeb-4b67-8a4d-535c6775a2c9",
   "metadata": {},
   "outputs": [
    {
     "name": "stdout",
     "output_type": "stream",
     "text": [
      "2\n"
     ]
    }
   ],
   "source": [
    "x = \"i like oranges,but more than oranges i love mango and mango is king of of the fruits\"\n",
    "print(x.count(\"mango\"))"
   ]
  },
  {
   "cell_type": "markdown",
   "id": "082f58ab-8848-4910-b694-6ff64c4edabf",
   "metadata": {},
   "source": [
    "## encode()\t\n",
    "Returns an encoded version of the string\r",
    "ng"
   ]
  },
  {
   "cell_type": "code",
   "execution_count": 24,
   "id": "938a16e1-2087-4022-bcfa-6d280cfb9d0e",
   "metadata": {},
   "outputs": [
    {
     "name": "stdout",
     "output_type": "stream",
     "text": [
      "b'My name is St\\xc3\\xa5le'\n"
     ]
    }
   ],
   "source": [
    "txt = \"My name is Ståle\"\n",
    "x = txt.encode()\n",
    "print(x)"
   ]
  },
  {
   "cell_type": "markdown",
   "id": "36e8cda5-fba5-4231-8f3a-46adc12042c9",
   "metadata": {},
   "source": [
    "## endswith()\t\n",
    "Returns true if the string ends with the specified value\n"
   ]
  },
  {
   "cell_type": "code",
   "execution_count": 28,
   "id": "eda9f265-481a-4f5e-a7ef-93c0dbf6abb3",
   "metadata": {},
   "outputs": [
    {
     "name": "stdout",
     "output_type": "stream",
     "text": [
      "True\n",
      "False\n"
     ]
    }
   ],
   "source": [
    "s = \"hello,welcome to the world of devlopment.\"\n",
    "print(s.endswith(\".\"))\n",
    "\n",
    "x = \"hello,welcome to the world of devlopment.\"\n",
    "print(x.endswith(\",\"))"
   ]
  },
  {
   "cell_type": "markdown",
   "id": "d19f933e-ef31-4eba-bfdf-0f6317b91aaf",
   "metadata": {},
   "source": [
    "## expandtabs()\t\n",
    "Sets the tab size of the string"
   ]
  },
  {
   "cell_type": "code",
   "execution_count": 34,
   "id": "6c221ebd-8ca4-4249-8374-edcde77905f8",
   "metadata": {},
   "outputs": [
    {
     "name": "stdout",
     "output_type": "stream",
     "text": [
      "H e l l o\n",
      "H e l l o\n",
      "H  e  l  l  o\n"
     ]
    }
   ],
   "source": [
    "txt = \"H\\te\\tl\\tl\\to\"\n",
    "x =  txt.expandtabs(1)\n",
    "print(x)\n",
    "\n",
    "txt = \"H\\te\\tl\\tl\\to\"\n",
    "x =  txt.expandtabs(2)\n",
    "print(x)\n",
    "\n",
    "txt = \"H\\te\\tl\\tl\\to\"\n",
    "x =  txt.expandtabs(3)\n",
    "print(x)"
   ]
  },
  {
   "cell_type": "markdown",
   "id": "c6796345-cfcd-498c-b64b-79f551a38eee",
   "metadata": {},
   "source": [
    "## index()\t\n",
    "Searches the string for a specified value and returns the position of where it was found\r",
    "fier()"
   ]
  },
  {
   "cell_type": "code",
   "execution_count": 43,
   "id": "04388d81-38d9-4e14-b3ab-b86d30208da7",
   "metadata": {},
   "outputs": [
    {
     "name": "stdout",
     "output_type": "stream",
     "text": [
      "7\n"
     ]
    }
   ],
   "source": [
    "txt = \"Hello, welcome to my world.\"\n",
    "x = txt.index(\"welcome\")\n",
    "print(x)"
   ]
  },
  {
   "cell_type": "markdown",
   "id": "3b4ad735-f6bb-47f9-9343-136237e0ab71",
   "metadata": {},
   "source": [
    "## isalnum()\n",
    "Returns True if all characters in the string are alphanumeric\n"
   ]
  },
  {
   "cell_type": "code",
   "execution_count": 45,
   "id": "a2b182e2-b0a1-4c1a-a52e-09f59d9d71f0",
   "metadata": {},
   "outputs": [
    {
     "name": "stdout",
     "output_type": "stream",
     "text": [
      "True\n"
     ]
    }
   ],
   "source": [
    "txt = \"Company12\"\n",
    "x = txt.isalnum()\n",
    "print(x)"
   ]
  },
  {
   "cell_type": "code",
   "execution_count": 47,
   "id": "bd8df2d1-8f99-4155-aad4-19f6fa9babde",
   "metadata": {},
   "outputs": [
    {
     "name": "stdout",
     "output_type": "stream",
     "text": [
      "True\n"
     ]
    }
   ],
   "source": [
    "txt = \"Company\"\n",
    "x = txt.isalnum()\n",
    "print(x)"
   ]
  },
  {
   "cell_type": "markdown",
   "id": "3ca52bff-09a8-4239-93b1-53939185b5ff",
   "metadata": {},
   "source": [
    "## isalpha()\t\n",
    "Returns True if all characters in the string are in the alphabet\n",
    "\n"
   ]
  },
  {
   "cell_type": "code",
   "execution_count": 49,
   "id": "e241e68f-b898-4679-9944-ab095bce48b0",
   "metadata": {},
   "outputs": [
    {
     "name": "stdout",
     "output_type": "stream",
     "text": [
      "True\n"
     ]
    }
   ],
   "source": [
    "txt = \"Company\"\n",
    "x = txt.isalpha()\n",
    "print(x)"
   ]
  },
  {
   "cell_type": "code",
   "execution_count": 53,
   "id": "a93a7b04-0e24-4d64-85dc-bfb88b721e8c",
   "metadata": {},
   "outputs": [
    {
     "name": "stdout",
     "output_type": "stream",
     "text": [
      "False\n"
     ]
    }
   ],
   "source": [
    "txt = \"Company12\"\n",
    "x = txt.isalpha()\n",
    "print(x)"
   ]
  },
  {
   "cell_type": "markdown",
   "id": "f7304001-1be6-41a7-9eb9-9891644b1d55",
   "metadata": {},
   "source": [
    "## isascii()\t\n",
    "Returns True if all characters in the string are ascii characters\n"
   ]
  },
  {
   "cell_type": "code",
   "execution_count": 55,
   "id": "91268589-313b-443b-9b6f-2fc5304e16df",
   "metadata": {},
   "outputs": [
    {
     "name": "stdout",
     "output_type": "stream",
     "text": [
      "True\n"
     ]
    }
   ],
   "source": [
    "txt = \"Company123\"\n",
    "x = txt.isascii()\n",
    "print(x)"
   ]
  },
  {
   "cell_type": "markdown",
   "id": "cbdf372f-ba8e-443c-8a74-e22c19c593a4",
   "metadata": {},
   "source": [
    "## isdecimal()\t\n",
    "Returns True if all characters in the string are decimals\n"
   ]
  },
  {
   "cell_type": "code",
   "execution_count": 57,
   "id": "80000a00-38ef-427c-bdbd-0db7cd55a9d6",
   "metadata": {},
   "outputs": [
    {
     "name": "stdout",
     "output_type": "stream",
     "text": [
      "True\n"
     ]
    }
   ],
   "source": [
    "txt = \"1234\"\n",
    "x = txt.isdecimal()\n",
    "print(x)"
   ]
  },
  {
   "cell_type": "code",
   "execution_count": 59,
   "id": "fc2c01e8-1e97-40d3-8415-52629b369cd6",
   "metadata": {},
   "outputs": [
    {
     "name": "stdout",
     "output_type": "stream",
     "text": [
      "True\n",
      "False\n"
     ]
    }
   ],
   "source": [
    "a = \"\\u0030\" \n",
    "b = \"\\u0047\" \n",
    "\n",
    "print(a.isdecimal())\n",
    "print(b.isdecimal())"
   ]
  },
  {
   "cell_type": "markdown",
   "id": "d5dd4800-e5bb-47ea-9305-aa70bdbbe0ba",
   "metadata": {},
   "source": [
    "## isdigit()\t\n",
    "Returns True if all characters in the string are digits"
   ]
  },
  {
   "cell_type": "code",
   "execution_count": 61,
   "id": "10b6d133-6625-477a-81df-7f8c213e6dbd",
   "metadata": {},
   "outputs": [
    {
     "name": "stdout",
     "output_type": "stream",
     "text": [
      "True\n"
     ]
    }
   ],
   "source": [
    "txt = \"50800\"\n",
    "x = txt.isdigit()\n",
    "print(x)"
   ]
  },
  {
   "cell_type": "code",
   "execution_count": null,
   "id": "97d95664-1269-4c01-bf7a-b51aa7013cca",
   "metadata": {},
   "outputs": [],
   "source": []
  }
 ],
 "metadata": {
  "kernelspec": {
   "display_name": "Python 3 (ipykernel)",
   "language": "python",
   "name": "python3"
  },
  "language_info": {
   "codemirror_mode": {
    "name": "ipython",
    "version": 3
   },
   "file_extension": ".py",
   "mimetype": "text/x-python",
   "name": "python",
   "nbconvert_exporter": "python",
   "pygments_lexer": "ipython3",
   "version": "3.12.4"
  }
 },
 "nbformat": 4,
 "nbformat_minor": 5
}
